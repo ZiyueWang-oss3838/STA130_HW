{
 "cells": [
  {
   "cell_type": "markdown",
   "id": "ed6c6441",
   "metadata": {},
   "source": [
    "3. Submit your preferred version of the Monty Hall problem that is verified to be running and working with a final printed output of the code; then, add code comments explaining the purpose of each line of the code:"
   ]
  },
  {
   "cell_type": "code",
   "execution_count": 1,
   "id": "84e6fa92",
   "metadata": {},
   "outputs": [
    {
     "name": "stdout",
     "output_type": "stream",
     "text": [
      "Probability of winning by switching: 0.6662 (66.62%)\n"
     ]
    }
   ],
   "source": [
    "import numpy as np\n",
    "\n",
    "# Define the three doors\n",
    "all_door_options = (1, 2, 3)\n",
    "\n",
    "# Number of simulation runs\n",
    "reps = 100000\n",
    "\n",
    "# Counter for the number of times the contestant wins by switching\n",
    "i_won = 0\n",
    "\n",
    "for _ in range(reps):\n",
    "    # Randomly assign the prize to one of the doors\n",
    "    secret_winning_door = np.random.choice(all_door_options)\n",
    "    \n",
    "    # Contestant makes an initial choice (always door 1 in this case)\n",
    "    my_door_choice = 1\n",
    "    \n",
    "    # Host reveals a goat door that is neither the contestant's choice nor the prize door\n",
    "    goat_door_reveal = np.random.choice([door for door in all_door_options if door != secret_winning_door and door != my_door_choice])\n",
    "    \n",
    "    # Contestant switches to the remaining door\n",
    "    my_door_choice = next(door for door in all_door_options if door != my_door_choice and door != goat_door_reveal)\n",
    "    \n",
    "    # Increment the win counter if the new choice is the winning door\n",
    "    if my_door_choice == secret_winning_door:\n",
    "        i_won += 1\n",
    "\n",
    "# Calculate the probability of winning by switching\n",
    "probability = i_won / reps\n",
    "print(f\"Probability of winning by switching: {probability:.4f} ({probability*100:.2f}%)\")"
   ]
  },
  {
   "cell_type": "markdown",
   "id": "2f415453",
   "metadata": {},
   "source": [
    "Here's a summary of the chat:\n",
    "\n",
    "You provided Python code simulating the Monty Hall problem using the switch strategy. The code randomly assigns the prize to one of three doors, simulates the contestant's choice and the host revealing a goat, and switches the contestant's choice to calculate the probability of winning by switching.\n",
    "\n",
    "I explained the code step by step, covering each part, including the probability theory behind the Monty Hall problem and how switching increases the chances of winning (from 1/3 to 2/3).\n",
    "\n",
    "You then asked for a simplified version of the loop. I provided a more concise version of the loop using list comprehensions to reveal a goat door and switch to the remaining unopened door, reducing unnecessary steps while maintaining the core logic.\n",
    "\n",
    "This helped clarify the functionality of the Monty Hall simulation and provided a cleaner way to write the code."
   ]
  },
  {
   "cell_type": "markdown",
   "id": "f8cc3470",
   "metadata": {},
   "source": [
    "https://chatgpt.com/share/66eb7098-4c98-8013-81be-ee2f85bb5c77"
   ]
  },
  {
   "cell_type": "markdown",
   "id": "08114905",
   "metadata": {},
   "source": [
    "question 4 to question 5 (1)(2)"
   ]
  },
  {
   "cell_type": "markdown",
   "id": "d234f90e",
   "metadata": {},
   "source": [
    "Here's a concise summary of what I discussed with ChatBot regarding my Markovian ChatBot code:\n",
    "\n",
    "1. Basic Markov Model:\n",
    "The original version of the chatbot uses single-word transitions to track the frequency of word pairs (bigrams). The model counts how often one word follows another using two dictionaries: word_used for word frequencies and next_word for next-word probabilities.\n",
    "2. Bigram-Based Markov Model:\n",
    "A more advanced version tracks pairs of consecutive words (bigrams) instead of single words. This approach improves the context-awareness of the chatbot, leading to more coherent responses. The word_used2 dictionary stores bigram frequencies, and next_word2 stores the frequency of words following each bigram.\n",
    "3. Character-Based Markov Model:\n",
    "A third, more extensive version incorporates character-based context. This model stores bigram and trigram data separately for each character from the dataset (avatar). It uses word_used2C to store bigram frequencies for each character and next_word2C to store the words that follow each bigram, creating a character-specific transition model.\n",
    "This model involves:\n",
    "Identifying characters in the text.\n",
    "Tracking bigrams and word transitions specifically tied to these characters.\n",
    "Using nested dictionaries for organizing the data, which enables character-specific text generation.\n",
    "Key Features:\n",
    "Contextual Awareness: The code builds a more detailed understanding of text patterns by tracking not just individual words but pairs of words (bigrams) and even the words that follow them (trigrams).\n",
    "Character-Specific Text Generation: The character-based approach can generate more personalized responses based on different characters' language patterns.\n",
    "This setup allows the chatbot to produce contextually relevant and character-specific dialogue, improving both coherence and realism."
   ]
  },
  {
   "cell_type": "markdown",
   "id": "2764321f",
   "metadata": {},
   "source": [
    "https://chatgpt.com/share/66ec4eb7-dafc-8013-b58c-d9acc335f085"
   ]
  },
  {
   "cell_type": "markdown",
   "id": "dd03b560",
   "metadata": {},
   "source": [
    "question 5 (3)"
   ]
  },
  {
   "cell_type": "markdown",
   "id": "3aaf5e51",
   "metadata": {},
   "source": [
    "Here's a summary of what I had discussed with ChatBot regarding my extended Markovian chatbot and the academic concepts behind it:\n",
    "\n",
    "Extended Markovian Chatbot Overview:\n",
    "The code uses word pairs (bigrams) and the next word to build a more sophisticated text generation model. It tracks sequences of words specific to characters in the dataset (avatar).\n",
    "Two nested dictionaries, word_used2C and next_word2C, are used to store:\n",
    "word_used2C: The frequency of consecutive word pairs for each character.\n",
    "next_word2C: The frequency of the next word given a specific pair of consecutive words for each character.\n",
    "Academic Concepts:\n",
    "N-Gram Modeling:\n",
    "\n",
    "The model you’re using can be described as an n-gram model, specifically a trigram model, where you track sequences of three words (a word pair followed by the next word).\n",
    "Conditional Probability Modeling:\n",
    "\n",
    "Your approach models the conditional probability of a word occurring given the previous two words. This allows for more accurate text generation as it takes into account word dependencies.\n",
    "Markov Models:\n",
    "\n",
    "By predicting the next word based on the previous pair, you are applying a higher-order Markov model (specifically, a second-order Markov model in terms of word sequences). This helps model more complex linguistic patterns.\n",
    "In summary, your chatbot uses n-gram, conditional probability, and Markov models to generate text based on word sequences, extending the basic Markovian chatbot model by considering pairs of consecutive words instead of independent words and conditioning on character-specific data."
   ]
  },
  {
   "cell_type": "markdown",
   "id": "fd741864",
   "metadata": {},
   "source": [
    "https://chatgpt.com/share/66ec5333-6e14-8013-95d0-74e04ad35e79"
   ]
  },
  {
   "cell_type": "markdown",
   "id": "d12e3330",
   "metadata": {},
   "source": [
    "6. Report on your experience interacting with ChatBots to understand the Monte Hall problem and \"Markovian ChatBot\" code\n",
    "Discuss how quickly the ChatBot was able to be helpful for each of the above questions, and if so, how?\n",
    "\n",
    "    Chatbot can answer all the questions very quickly. My chatbot is very smart, it can reply to me with \"biagrams\" when I tell all the extension parts of the code. However, if I only put the final extension of the code, it won't reply to me with \"bigrams\". This means ChatBot can reply with a detailed answer when I answer a question in detail. Also, ChatBot cannot reply to a large number of codes in detail. But if I ask Chatbot about smaller chunks of code, it can explain them to me in detail. It requires me more conversation with ChatBot.\n",
    "    \n",
    "Discuss whether or not interacting with ChatBot to try to figure things out was frustrating or unhelpful, and if so, how?\n",
    "\n",
    "    Sometimes, when I feel confuse about understanding a code, but I cannot organize my words to ask ChatBot. Thus, I could not get the answer that I want. \n",
    "\n",
    "Based on your experiences to date (e.g., including using ChatBots to troubleshoot coding errors in the previous homework), provide an overall assessment evaluating the usefulness of ChatBots as tools to help you understand code\n",
    "\n",
    "    Communicating with ChatBot is very useful and helpful. It can solve most of my questions, including providing video, asking for detail explaination, and providing examples."
   ]
  },
  {
   "cell_type": "markdown",
   "id": "9059b4c9",
   "metadata": {},
   "source": [
    "7. Reflect on your experience interacting with ChatBot and describe how your perception of AI-driven assistance tools in the context of learning coding, statistics, and data science has been evolving (or not) since joining the course\n",
    " Before joining this class, I see ChatBot as a cheating tools so I aviod to use it. After joining this class, especially join uoft environment, I see ChatBot as a very efficient and useful tools. Because professors have limited time to answer the questions to each students, so ChatBot become my study partner."
   ]
  },
  {
   "cell_type": "markdown",
   "id": "3b3d1ca3",
   "metadata": {},
   "source": [
    "8. ChatBots consume text data available on the web or platforms, and thus represents a new way to \"search consensensus\" that condenses and summarizes mainstream human thought\n",
    "\n",
    "Here's a summary of the key points discussed regarding the important skills for my Coding Skills:\n",
    "\n",
    "Essential for both computer science and actuarial roles. Programming languages like Python, R, and SQL are widely used for data manipulation, statistical modeling, and software development. In computer science, coding is the foundation for building applications, algorithms, and AI models.\n",
    "Database Skills:\n",
    "\n",
    "Important in both fields, especially for handling and analyzing large datasets. Knowledge of SQL, NoSQL databases, and database management systems will help with data storage, retrieval, and manipulation, particularly in data-driven fields like data science and actuarial analysis.\n",
    "Statistical Skills:\n",
    "\n",
    "Crucial for actuarial work and data science roles, where probability, statistical analysis, and predictive modeling are key to risk assessment and decision-making. Understanding statistical methods and tools (e.g., Excel, R, SAS) will enable effective data interpretation and analysis.\n",
    "Artificial Intelligence (AI):\n",
    "\n",
    "AI and machine learning are increasingly important in many computer science-related roles, including data science, automation, and predictive modeling. Learning AI frameworks like TensorFlow or PyTorch can open up opportunities in cutting-edge areas of tech.\n",
    "Communication Skills:\n",
    "\n",
    "Necessary for explaining complex technical concepts to non-technical stakeholders, whether you’re working as an actuary, data scientist, or in a computer science role. Strong communication skills help with report writing, presentations, and collaboration within interdisciplinary teams.\n",
    "In summary, a combination of technical skills (coding, databases, AI, statistics) and communication skills will be critical for pursuing a career as an actuary or in computer science-related fields. Building proficiency in these areas will make you more versatile and competitive in the job market.\n",
    "\n",
    "From the conversation that I had with Chatbot, I understand that coding skills, database skills, statistical skills, AI, communication skills are very important for my future career. \n",
    "\n",
    "ChatBot provides a guide for my future careers, but it is not very specific."
   ]
  },
  {
   "cell_type": "markdown",
   "id": "10f10b3d",
   "metadata": {},
   "source": [
    "9. Have you reviewed the course wiki-textbook and interacted with a ChatBot (or, if that wasn't sufficient, real people in the course piazza discussion board or TA office hours) to help you understand all the material in the tutorial and lecture that you didn't quite follow when you first saw it?\n",
    "No"
   ]
  }
 ],
 "metadata": {
  "kernelspec": {
   "display_name": "Python 3 (ipykernel)",
   "language": "python",
   "name": "python3"
  },
  "language_info": {
   "codemirror_mode": {
    "name": "ipython",
    "version": 3
   },
   "file_extension": ".py",
   "mimetype": "text/x-python",
   "name": "python",
   "nbconvert_exporter": "python",
   "pygments_lexer": "ipython3",
   "version": "3.11.6"
  }
 },
 "nbformat": 4,
 "nbformat_minor": 5
}
