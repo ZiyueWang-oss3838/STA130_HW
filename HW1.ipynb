{
 "cells": [
  {
   "cell_type": "markdown",
   "id": "62868656",
   "metadata": {},
   "source": [
    "3. Submit your preferred version of the Monty Hall problem that is verified to be running and working with a final printed output of the code; then, add code comments explaining the purpose of each line of the code:"
   ]
  },
  {
   "cell_type": "code",
   "execution_count": 1,
   "id": "84e6fa92",
   "metadata": {},
   "outputs": [
    {
     "name": "stdout",
     "output_type": "stream",
     "text": [
      "Probability of winning by switching: 0.6662 (66.62%)\n"
     ]
    }
   ],
   "source": [
    "import numpy as np\n",
    "\n",
    "# Define the three doors\n",
    "all_door_options = (1, 2, 3)\n",
    "\n",
    "# Number of simulation runs\n",
    "reps = 100000\n",
    "\n",
    "# Counter for the number of times the contestant wins by switching\n",
    "i_won = 0\n",
    "\n",
    "for _ in range(reps):\n",
    "    # Randomly assign the prize to one of the doors\n",
    "    secret_winning_door = np.random.choice(all_door_options)\n",
    "    \n",
    "    # Contestant makes an initial choice (always door 1 in this case)\n",
    "    my_door_choice = 1\n",
    "    \n",
    "    # Host reveals a goat door that is neither the contestant's choice nor the prize door\n",
    "    goat_door_reveal = np.random.choice([door for door in all_door_options if door != secret_winning_door and door != my_door_choice])\n",
    "    \n",
    "    # Contestant switches to the remaining door\n",
    "    my_door_choice = next(door for door in all_door_options if door != my_door_choice and door != goat_door_reveal)\n",
    "    \n",
    "    # Increment the win counter if the new choice is the winning door\n",
    "    if my_door_choice == secret_winning_door:\n",
    "        i_won += 1\n",
    "\n",
    "# Calculate the probability of winning by switching\n",
    "probability = i_won / reps\n",
    "print(f\"Probability of winning by switching: {probability:.4f} ({probability*100:.2f}%)\")"
   ]
  },
  {
   "cell_type": "markdown",
   "id": "c4a5f870",
   "metadata": {},
   "source": [
    "Sure! Here's a summary of our chat:\n",
    "\n",
    "You provided Python code simulating the Monty Hall problem using the switch strategy. The code randomly assigns the prize to one of three doors, simulates the contestant's choice and the host revealing a goat, and switches the contestant's choice to calculate the probability of winning by switching.\n",
    "\n",
    "I explained the code step by step, covering each part, including the probability theory behind the Monty Hall problem and how switching increases the chances of winning (from 1/3 to 2/3).\n",
    "\n",
    "You then asked for a simplified version of the loop. I provided a more concise version of the loop using list comprehensions to reveal a goat door and switch to the remaining unopened door, reducing unnecessary steps while maintaining the core logic.\n",
    "\n",
    "This helped clarify the functionality of the Monty Hall simulation and provided a cleaner way to write the code."
   ]
  },
  {
   "cell_type": "markdown",
   "id": "413c08d4",
   "metadata": {},
   "source": [
    "https://chatgpt.com/share/66eb7098-4c98-8013-81be-ee2f85bb5c77"
   ]
  },
  {
   "cell_type": "markdown",
   "id": "d287c412",
   "metadata": {},
   "source": [
    "question 4 to question 5 (1)(2)"
   ]
  },
  {
   "cell_type": "markdown",
   "id": "ddf7a38b",
   "metadata": {},
   "source": [
    "https://chatgpt.com/share/66ec4eb7-dafc-8013-b58c-d9acc335f085"
   ]
  },
  {
   "cell_type": "markdown",
   "id": "0eb761c2",
   "metadata": {},
   "source": [
    "question 5 (3)"
   ]
  },
  {
   "cell_type": "markdown",
   "id": "6f5e3553",
   "metadata": {},
   "source": [
    "https://chatgpt.com/share/66ec5333-6e14-8013-95d0-74e04ad35e79"
   ]
  },
  {
   "cell_type": "markdown",
   "id": "10b49835",
   "metadata": {},
   "source": [
    "question 6"
   ]
  }
 ],
 "metadata": {
  "kernelspec": {
   "display_name": "Python 3 (ipykernel)",
   "language": "python",
   "name": "python3"
  },
  "language_info": {
   "codemirror_mode": {
    "name": "ipython",
    "version": 3
   },
   "file_extension": ".py",
   "mimetype": "text/x-python",
   "name": "python",
   "nbconvert_exporter": "python",
   "pygments_lexer": "ipython3",
   "version": "3.11.6"
  }
 },
 "nbformat": 4,
 "nbformat_minor": 5
}
